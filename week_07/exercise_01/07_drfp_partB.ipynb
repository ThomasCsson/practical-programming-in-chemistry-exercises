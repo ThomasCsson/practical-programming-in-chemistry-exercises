{
 "cells": [
  {
   "cell_type": "markdown",
   "id": "6ea1be65-e1e1-4259-bb87-c2d7a526341f",
   "metadata": {},
   "source": [
    "# DRFP - Reaction fingerprint\n",
    "\n",
    "DRFP is a reaction fingerprint developed by Probst et al.. \n",
    "\n",
    "Here we will just perform a quick test that it is correctly installed to show you the different ways of installing it.\n",
    "\n",
    "To display the path to the activated conda environment, we can run:"
   ]
  },
  {
   "cell_type": "code",
   "execution_count": null,
   "id": "72d03e42-596e-4bf7-ad5f-ae5e53c470a9",
   "metadata": {},
   "outputs": [],
   "source": [
    "import sys \n",
    "print(sys.prefix)"
   ]
  },
  {
   "cell_type": "markdown",
   "id": "bb117f3b-7ff4-495a-a9e6-9914efc54a04",
   "metadata": {},
   "source": [
    "This should end with `drfp_source`, if you followed the tutorial in the README\n",
    "\n",
    "We can also check where we installed the `drfp` package."
   ]
  },
  {
   "cell_type": "code",
   "execution_count": null,
   "id": "a2082807-2463-4a35-a2f1-5f6bfab16970",
   "metadata": {},
   "outputs": [],
   "source": [
    "import drfp\n",
    "print(\"DRFP installed in:\", drfp.__file__)"
   ]
  },
  {
   "cell_type": "markdown",
   "id": "a4ed33f4-6dd3-4366-a830-b93b8bd6de73",
   "metadata": {},
   "source": [
    "Those two checks were mainly to show you how the python package installation is working.\n",
    "\n",
    "Compare the `path` with what you had in the output in `partA`. As you installed it with `pip install -e .`, the \"editable\" flag (`-e`), the `__file__` path should point to a subfolder of where you downloaded `drfp`. \n",
    "\n",
    "Hence, all the changes you make to the code in that folder, will be immediately reflected in your installation. \n",
    "\n",
    "Now, we need to import the reaction encoder (`DrfpEncoder`)\n",
    "\n",
    "### Testing DRFP"
   ]
  },
  {
   "cell_type": "code",
   "execution_count": null,
   "id": "1c42f92a-3450-4f0e-822e-3fefd9798ead",
   "metadata": {},
   "outputs": [],
   "source": [
    "from drfp import DrfpEncoder"
   ]
  },
  {
   "cell_type": "markdown",
   "id": "67615523-ad08-4616-9041-5d48568a1194",
   "metadata": {},
   "source": [
    "Let's define a few reaction SMILES. If you want to see what they look like, you could use [CDK depict](https://www.simolecule.com/cdkdepict/depict.html)."
   ]
  },
  {
   "cell_type": "code",
   "execution_count": null,
   "id": "5514ae5b-70ea-4493-8343-462d6e29bdc4",
   "metadata": {},
   "outputs": [],
   "source": [
    "rxn_smiles = [\n",
    "    \"CO.O[C@@H]1CCNC1.[C-]#[N+]CC(=O)OC>>[C-]#[N+]CC(=O)N1CC[C@@H](O)C1\",\n",
    "    \"CCOC(=O)C(CC)c1cccnc1.Cl.O>>CCC(C(=O)O)c1cccnc1\",\n",
    "]"
   ]
  },
  {
   "cell_type": "code",
   "execution_count": null,
   "id": "dea655f5-8ec0-4681-bca8-4f4e26466a98",
   "metadata": {},
   "outputs": [],
   "source": [
    "fps = DrfpEncoder.encode(rxn_smiles)\n",
    "fps"
   ]
  },
  {
   "cell_type": "markdown",
   "id": "ab12b471-3d69-4402-8bdc-80adb43a28d3",
   "metadata": {},
   "source": [
    "### Visualize the bits\n",
    "\n",
    "We could visualize the bits with `matplotlib`, so let's try to do that."
   ]
  },
  {
   "cell_type": "code",
   "execution_count": 1,
   "id": "89282acf-3b8f-4b51-9116-816fcb65c03d",
   "metadata": {},
   "outputs": [],
   "source": [
    "import matplotlib.pyplot as plt\n",
    "import numpy as np"
   ]
  },
  {
   "cell_type": "markdown",
   "id": "add89cd9-6b1f-45b4-9916-f7e299d4ffe4",
   "metadata": {},
   "source": [
    "As you have created a new conda environment and not yet installed `matplotlib` this should results in a:\n",
    "\n",
    "```\n",
    "---------------------------------------------------------------------------\n",
    "ModuleNotFoundError                       Traceback (most recent call last)\n",
    "Cell In[6], line 1\n",
    "----> 1 import matplotlib.pyplot as plt\n",
    "      2 import numpy as np\n",
    "      4 # Sample arrays, replace these with your actual data\n",
    "\n",
    "ModuleNotFoundError: No module named 'matplotlib'\n",
    "```\n",
    "\n",
    "Conveniently, we can access the command line through a Jupyter notebook with `!`, and install `matplotlib` in the activate conda environment. "
   ]
  },
  {
   "cell_type": "code",
   "execution_count": null,
   "id": "7174516b-d36d-4a7d-be49-2e5841047934",
   "metadata": {},
   "outputs": [],
   "source": [
    "!pip install matplotlib"
   ]
  },
  {
   "cell_type": "markdown",
   "id": "c0a39fe0-2d8a-4868-a279-ffc5f1ebaacc",
   "metadata": {},
   "source": [
    "Now, we are able to import `matplotlib`. The reason we do not have to do the same with `numpy` is that it is a dependency of `drfp`, and therefore, was automatically installed together with `drfp`."
   ]
  },
  {
   "cell_type": "code",
   "execution_count": null,
   "id": "4b1e9f9d-3d0a-44df-9fd3-ad42b3c86d62",
   "metadata": {},
   "outputs": [],
   "source": [
    "import matplotlib.pyplot as plt\n",
    "import numpy as np"
   ]
  },
  {
   "cell_type": "code",
   "execution_count": 4,
   "id": "11c21da2-9f83-47c2-bdbe-8c385473e26e",
   "metadata": {},
   "outputs": [
    {
     "data": {
      "text/plain": [
       "[array([0, 0, 0, 1, 1, 1, 0, 0, 0, 0, 0, 0, 1, 0, 1, 1, 0, 0, 0, 1, 0, 0,\n",
       "        0, 0, 0, 1, 0, 0, 0, 0, 0, 1, 0, 0, 0, 0, 0, 0, 0, 1, 0, 0, 0, 1,\n",
       "        1, 0, 0, 0, 0, 1, 0, 0, 0, 0, 1, 0, 0, 0, 0, 0, 0, 1, 0, 0, 0, 0,\n",
       "        1, 0, 1, 1, 0, 0, 0, 0, 0, 0, 0, 0, 0, 0, 1, 0, 1, 0, 1, 0, 0, 1,\n",
       "        0, 0, 0, 1, 0, 0, 1, 1, 1, 0, 1, 0, 0, 1, 0, 0, 0, 0, 1, 0, 1, 0,\n",
       "        1, 0, 0, 1, 1, 0, 0, 1, 0, 0, 0, 1, 0, 0, 0, 1, 0, 1], dtype=uint8),\n",
       " array([0, 0, 1, 0, 0, 0, 0, 0, 0, 0, 0, 1, 0, 0, 1, 0, 1, 1, 0, 0, 0, 0,\n",
       "        0, 0, 1, 0, 0, 0, 1, 0, 0, 1, 1, 0, 0, 0, 0, 0, 1, 0, 0, 0, 0, 0,\n",
       "        0, 0, 0, 1, 0, 0, 0, 0, 0, 0, 0, 0, 0, 0, 0, 0, 0, 0, 0, 0, 0, 0,\n",
       "        0, 0, 1, 0, 0, 0, 0, 0, 0, 0, 0, 0, 0, 0, 0, 1, 0, 0, 0, 0, 0, 0,\n",
       "        0, 0, 1, 0, 0, 0, 0, 0, 1, 0, 0, 0, 1, 0, 1, 0, 0, 1, 0, 0, 0, 0,\n",
       "        1, 0, 0, 0, 0, 0, 0, 0, 0, 0, 0, 0, 0, 0, 0, 0, 0, 0], dtype=uint8)]"
      ]
     },
     "execution_count": 4,
     "metadata": {},
     "output_type": "execute_result"
    }
   ],
   "source": [
    "from drfp import DrfpEncoder\n",
    "rxn_smiles = [\n",
    "    \"CO.O[C@@H]1CCNC1.[C-]#[N+]CC(=O)OC>>[C-]#[N+]CC(=O)N1CC[C@@H](O)C1\",\n",
    "    \"CCOC(=O)C(CC)c1cccnc1.Cl.O>>CCC(C(=O)O)c1cccnc1\",\n",
    "]\n",
    "# To make the visualisation a bit more appealing, we will not use the 2048 dimensions but only 128.\n",
    "fps_128 = DrfpEncoder.encode(rxn_smiles, n_folded_length=128)\n",
    "fps_128"
   ]
  },
  {
   "cell_type": "code",
   "execution_count": 5,
   "id": "d1865aad-cdb5-4f0a-9909-721ea9349b3d",
   "metadata": {},
   "outputs": [
    {
     "data": {
      "image/png": "[encoded data removed]",
      "text/plain": [
       "<Figure size 2000x200 with 2 Axes>"
      ]
     },
     "metadata": {},
     "output_type": "display_data"
    }
   ],
   "source": [
    "# Convert list of fingerprints into a 2D NumPy array\n",
    "arrays_2d = np.array(fps_128)\n",
    "\n",
    "# Visualize the arrays\n",
    "plt.figure(figsize=(20, 2))  # Adjust the figsize as necessary\n",
    "plt.imshow(arrays_2d, aspect='auto', cmap='viridis')\n",
    "plt.colorbar(label='Value')\n",
    "plt.yticks(ticks=np.arange(len(fps_128)), labels=[f'RXN {i+1}' for i in range(len(fps_128))])\n",
    "plt.xlabel('Index')\n",
    "plt.show()"
   ]
  }
 ],
 "metadata": {
  "kernelspec": {
   "display_name": "Python 3 (ipykernel)",
   "language": "python",
   "name": "python3"
  },
  "language_info": {
   "codemirror_mode": {
    "name": "ipython",
    "version": 3
   },
   "file_extension": ".py",
   "mimetype": "text/x-python",
   "name": "python",
   "nbconvert_exporter": "python",
   "pygments_lexer": "ipython3",
   "version": "3.10.12"
  }
 },
 "nbformat": 4,
 "nbformat_minor": 5
}
